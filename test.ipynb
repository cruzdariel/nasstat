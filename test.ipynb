{
 "cells": [
  {
   "cell_type": "code",
   "execution_count": 8,
   "metadata": {},
   "outputs": [],
   "source": [
    "from main import *"
   ]
  },
  {
   "cell_type": "markdown",
   "metadata": {},
   "source": [
    "# NAAStatus Use Cases\n",
    "---"
   ]
  },
  {
   "cell_type": "markdown",
   "metadata": {},
   "source": [
    "## Getting Airport Events"
   ]
  },
  {
   "cell_type": "code",
   "execution_count": null,
   "metadata": {},
   "outputs": [
    {
     "data": {
      "application/vnd.microsoft.datawrangler.viewer.v0+json": {
       "columns": [
        {
         "name": "index",
         "rawType": "object",
         "type": "string"
        },
        {
         "name": "departureDelay",
         "rawType": "object",
         "type": "unknown"
        }
       ],
       "conversionMethod": "pd.DataFrame",
       "ref": "7ee2d472-7604-4101-912e-477fa697b9ae",
       "rows": [
        [
         "airportId",
         "LAS"
        ],
        [
         "reason",
         "WX:Wind"
        ],
        [
         "arrivalDeparture",
         "{'type': 'Departure', 'min': '16 minutes', 'max': '30 minutes', 'trend': 'Increasing'}"
        ],
        [
         "updateTime",
         "2025-03-17T18:48:00Z"
        ],
        [
         "averageDelay",
         "15"
        ],
        [
         "trend",
         "increasing"
        ]
       ],
       "shape": {
        "columns": 1,
        "rows": 6
       }
      },
      "text/html": [
       "<div>\n",
       "<style scoped>\n",
       "    .dataframe tbody tr th:only-of-type {\n",
       "        vertical-align: middle;\n",
       "    }\n",
       "\n",
       "    .dataframe tbody tr th {\n",
       "        vertical-align: top;\n",
       "    }\n",
       "\n",
       "    .dataframe thead th {\n",
       "        text-align: right;\n",
       "    }\n",
       "</style>\n",
       "<table border=\"1\" class=\"dataframe\">\n",
       "  <thead>\n",
       "    <tr style=\"text-align: right;\">\n",
       "      <th></th>\n",
       "      <th>departureDelay</th>\n",
       "    </tr>\n",
       "  </thead>\n",
       "  <tbody>\n",
       "    <tr>\n",
       "      <th>airportId</th>\n",
       "      <td>LAS</td>\n",
       "    </tr>\n",
       "    <tr>\n",
       "      <th>reason</th>\n",
       "      <td>WX:Wind</td>\n",
       "    </tr>\n",
       "    <tr>\n",
       "      <th>arrivalDeparture</th>\n",
       "      <td>{'type': 'Departure', 'min': '16 minutes', 'ma...</td>\n",
       "    </tr>\n",
       "    <tr>\n",
       "      <th>updateTime</th>\n",
       "      <td>2025-03-17T18:48:00Z</td>\n",
       "    </tr>\n",
       "    <tr>\n",
       "      <th>averageDelay</th>\n",
       "      <td>15</td>\n",
       "    </tr>\n",
       "    <tr>\n",
       "      <th>trend</th>\n",
       "      <td>increasing</td>\n",
       "    </tr>\n",
       "  </tbody>\n",
       "</table>\n",
       "</div>"
      ],
      "text/plain": [
       "                                                     departureDelay\n",
       "airportId                                                       LAS\n",
       "reason                                                      WX:Wind\n",
       "arrivalDeparture  {'type': 'Departure', 'min': '16 minutes', 'ma...\n",
       "updateTime                                     2025-03-17T18:48:00Z\n",
       "averageDelay                                                     15\n",
       "trend                                                    increasing"
      ]
     },
     "execution_count": 15,
     "metadata": {},
     "output_type": "execute_result"
    }
   ],
   "source": [
    "import pandas as pd\n",
    "\n",
    "airport = Airport(\"LAS\")\n",
    "structured_data = airport.getAirportEvents()\n",
    "\n",
    "delays_df = pd.DataFrame(airport.airportevents['delays'])\n",
    "delays_df"
   ]
  },
  {
   "cell_type": "code",
   "execution_count": null,
   "metadata": {},
   "outputs": [],
   "source": []
  }
 ],
 "metadata": {
  "kernelspec": {
   "display_name": "Python 3",
   "language": "python",
   "name": "python3"
  },
  "language_info": {
   "codemirror_mode": {
    "name": "ipython",
    "version": 3
   },
   "file_extension": ".py",
   "mimetype": "text/x-python",
   "name": "python",
   "nbconvert_exporter": "python",
   "pygments_lexer": "ipython3",
   "version": "3.11.4"
  }
 },
 "nbformat": 4,
 "nbformat_minor": 2
}
