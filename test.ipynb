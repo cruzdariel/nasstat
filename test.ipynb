{
 "cells": [
  {
   "cell_type": "code",
   "execution_count": null,
   "metadata": {},
   "outputs": [],
   "source": [
    "from naastatus import *"
   ]
  },
  {
   "cell_type": "markdown",
   "metadata": {},
   "source": [
    "# NAAStatus Use Cases\n",
    "---"
   ]
  },
  {
   "cell_type": "markdown",
   "metadata": {},
   "source": [
    "## Getting Airport Delays"
   ]
  },
  {
   "cell_type": "code",
   "execution_count": 22,
   "metadata": {},
   "outputs": [
    {
     "name": "stdout",
     "output_type": "stream",
     "text": [
      "\u001b[34;1mNAASTATUS\u001b[0m There is a delay on DEN Grounds averaging 45 minutes (btwn. 45-135 min) due to wind.\n"
     ]
    }
   ],
   "source": [
    "airportcode = \"DEN\"\n",
    "airport = Airport(airportcode)\n",
    "airport.getDelays()\n",
    "\n",
    "if airport.airportdelays is None:\n",
    "    print(\"\\x1b[34;1mNAASTATUS\\x1b[0m \" + \"There are no delays.\")\n",
    "else:\n",
    "    for key, value in airport.airportdelays.items():\n",
    "        print(\"\\x1b[34;1mNAASTATUS\\x1b[0m \" + f\"There is a delay on {airportcode} {key}s averaging {value['avgDelay']} minutes (btwn. {value['minDelay']}-{value['maxDelay']} min) due to {value['reason']}.\")"
   ]
  },
  {
   "cell_type": "code",
   "execution_count": 23,
   "metadata": {},
   "outputs": [
    {
     "name": "stdout",
     "output_type": "stream",
     "text": [
      "\u001b[34;1mNAASTATUS\u001b[0m There are no delays.\n"
     ]
    }
   ],
   "source": [
    "airportcode = \"MCO\"\n",
    "airport = Airport(airportcode)\n",
    "airport.getDelays()\n",
    "\n",
    "if airport.airportdelays is None:\n",
    "    print(\"\\x1b[34;1mNAASTATUS\\x1b[0m \" + \"There are no delays.\")\n",
    "else:\n",
    "    for key, value in airport.airportdelays.items():\n",
    "        print(\"\\x1b[34;1mNAASTATUS\\x1b[0m \" + f\"There is a delay on {airportcode} {key}s averaging {value['avgDelay']} minutes (btwn. {value['minDelay']}-{value['maxDelay']} min) due to {value['reason']}.\")"
   ]
  },
  {
   "cell_type": "markdown",
   "metadata": {},
   "source": [
    "## Is Delay?"
   ]
  },
  {
   "cell_type": "code",
   "execution_count": 24,
   "metadata": {},
   "outputs": [
    {
     "name": "stdout",
     "output_type": "stream",
     "text": [
      "\u001b[34;1mNAASTATUS\u001b[0m Airport Delays is empty, attempting to refresh...\n",
      "True\n"
     ]
    }
   ],
   "source": [
    "airportcode = \"DEN\"\n",
    "airport = Airport(airportcode)\n",
    "print(airport.isDelay())"
   ]
  },
  {
   "cell_type": "markdown",
   "metadata": {},
   "source": [
    "## Average Delay"
   ]
  },
  {
   "cell_type": "code",
   "execution_count": 25,
   "metadata": {},
   "outputs": [
    {
     "name": "stdout",
     "output_type": "stream",
     "text": [
      "\u001b[34;1mNAASTATUS\u001b[0m Airport Delays is empty, attempting to refresh...\n",
      "45.0\n"
     ]
    }
   ],
   "source": [
    "airportcode = \"DEN\"\n",
    "airport = Airport(airportcode)\n",
    "print(airport.averageDelay())"
   ]
  },
  {
   "cell_type": "markdown",
   "metadata": {},
   "source": [
    "## Reason for Delays"
   ]
  },
  {
   "cell_type": "code",
   "execution_count": 26,
   "metadata": {},
   "outputs": [
    {
     "name": "stdout",
     "output_type": "stream",
     "text": [
      "\u001b[34;1mNAASTATUS\u001b[0m Airport Delays is empty, attempting to refresh...\n",
      "wind\n"
     ]
    }
   ],
   "source": [
    "airportcode = \"DEN\"\n",
    "airport = Airport(airportcode)\n",
    "print(airport.delayReasons())"
   ]
  }
 ],
 "metadata": {
  "kernelspec": {
   "display_name": "Python 3",
   "language": "python",
   "name": "python3"
  },
  "language_info": {
   "codemirror_mode": {
    "name": "ipython",
    "version": 3
   },
   "file_extension": ".py",
   "mimetype": "text/x-python",
   "name": "python",
   "nbconvert_exporter": "python",
   "pygments_lexer": "ipython3",
   "version": "3.11.4"
  }
 },
 "nbformat": 4,
 "nbformat_minor": 2
}
