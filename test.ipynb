{
 "cells": [
  {
   "cell_type": "code",
   "execution_count": 1,
   "metadata": {},
   "outputs": [],
   "source": [
    "from naastatus import *"
   ]
  },
  {
   "cell_type": "markdown",
   "metadata": {},
   "source": [
    "# NAAStatus Use Cases\n",
    "---"
   ]
  },
  {
   "cell_type": "markdown",
   "metadata": {},
   "source": [
    "## Getting Airport Delays"
   ]
  },
  {
   "cell_type": "code",
   "execution_count": 2,
   "metadata": {},
   "outputs": [
    {
     "name": "stdout",
     "output_type": "stream",
     "text": [
      "\u001b[34;1mNAASTATUS\u001b[0m There are no delays.\n"
     ]
    }
   ],
   "source": [
    "airportcode = \"DEN\"\n",
    "airport = Airport(airportcode)\n",
    "airport.getDelays()\n",
    "\n",
    "if airport.airportdelays is None:\n",
    "    print(\"\\x1b[34;1mNAASTATUS\\x1b[0m \" + \"There are no delays.\")\n",
    "else:\n",
    "    for key, value in airport.airportdelays.items():\n",
    "        print(\"\\x1b[34;1mNAASTATUS\\x1b[0m \" + f\"There is a delay on {airportcode} {key}s averaging {value['avgDelay']} minutes (btwn. {value['minDelay']}-{value['maxDelay']} min) due to {value['reason']}.\")"
   ]
  },
  {
   "cell_type": "code",
   "execution_count": 3,
   "metadata": {},
   "outputs": [
    {
     "name": "stdout",
     "output_type": "stream",
     "text": [
      "\u001b[34;1mNAASTATUS\u001b[0m There are no delays.\n"
     ]
    }
   ],
   "source": [
    "airportcode = \"MCO\"\n",
    "airport = Airport(airportcode)\n",
    "airport.getDelays()\n",
    "\n",
    "if airport.airportdelays is None:\n",
    "    print(\"\\x1b[34;1mNAASTATUS\\x1b[0m \" + \"There are no delays.\")\n",
    "else:\n",
    "    for key, value in airport.airportdelays.items():\n",
    "        print(\"\\x1b[34;1mNAASTATUS\\x1b[0m \" + f\"There is a delay on {airportcode} {key}s averaging {value['avgDelay']} minutes (btwn. {value['minDelay']}-{value['maxDelay']} min) due to {value['reason']}.\")"
   ]
  },
  {
   "cell_type": "markdown",
   "metadata": {},
   "source": [
    "## Is Delay?"
   ]
  },
  {
   "cell_type": "code",
   "execution_count": 4,
   "metadata": {},
   "outputs": [
    {
     "name": "stdout",
     "output_type": "stream",
     "text": [
      "\u001b[34;1mNAASTATUS\u001b[0m Airport Delays is empty, attempting to refresh...\n",
      "False\n"
     ]
    }
   ],
   "source": [
    "airportcode = \"DEN\"\n",
    "airport = Airport(airportcode)\n",
    "print(airport.isDelay())"
   ]
  },
  {
   "cell_type": "markdown",
   "metadata": {},
   "source": [
    "## Average Delay"
   ]
  },
  {
   "cell_type": "code",
   "execution_count": 5,
   "metadata": {},
   "outputs": [
    {
     "name": "stdout",
     "output_type": "stream",
     "text": [
      "\u001b[34;1mNAASTATUS\u001b[0m Airport Delays is empty, attempting to refresh...\n",
      "0\n"
     ]
    }
   ],
   "source": [
    "airportcode = \"DEN\"\n",
    "airport = Airport(airportcode)\n",
    "print(airport.averageDelay())"
   ]
  },
  {
   "cell_type": "markdown",
   "metadata": {},
   "source": [
    "## Reason for Delays"
   ]
  },
  {
   "cell_type": "code",
   "execution_count": 6,
   "metadata": {},
   "outputs": [
    {
     "name": "stdout",
     "output_type": "stream",
     "text": [
      "\u001b[34;1mNAASTATUS\u001b[0m Airport Delays is empty, attempting to refresh...\n",
      "None\n"
     ]
    }
   ],
   "source": [
    "airportcode = \"DEN\"\n",
    "airport = Airport(airportcode)\n",
    "print(airport.delayReasons())"
   ]
  },
  {
   "cell_type": "markdown",
   "metadata": {},
   "source": [
    "## Possible Delays"
   ]
  },
  {
   "cell_type": "code",
   "execution_count": 7,
   "metadata": {},
   "outputs": [
    {
     "name": "stdout",
     "output_type": "stream",
     "text": [
      "{'GROUND STOP/DELAY PROGRAM POSSIBLE': 'AFTER 1900'}\n"
     ]
    }
   ],
   "source": [
    "airportcode = \"LGA\"\n",
    "airport = Airport(airportcode)\n",
    "print(airport.getPossibleDelays())"
   ]
  },
  {
   "cell_type": "code",
   "execution_count": null,
   "metadata": {},
   "outputs": [],
   "source": []
  }
 ],
 "metadata": {
  "kernelspec": {
   "display_name": "Python 3",
   "language": "python",
   "name": "python3"
  },
  "language_info": {
   "codemirror_mode": {
    "name": "ipython",
    "version": 3
   },
   "file_extension": ".py",
   "mimetype": "text/x-python",
   "name": "python",
   "nbconvert_exporter": "python",
   "pygments_lexer": "ipython3",
   "version": "3.11.4"
  }
 },
 "nbformat": 4,
 "nbformat_minor": 2
}
