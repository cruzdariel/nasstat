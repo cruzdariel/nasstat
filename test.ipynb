{
 "cells": [
  {
   "cell_type": "code",
   "execution_count": 4,
   "metadata": {},
   "outputs": [],
   "source": [
    "from main import *"
   ]
  },
  {
   "cell_type": "markdown",
   "metadata": {},
   "source": [
    "# NAAStatus Use Cases\n",
    "---"
   ]
  },
  {
   "cell_type": "markdown",
   "metadata": {},
   "source": [
    "## Getting Airport Events"
   ]
  },
  {
   "cell_type": "code",
   "execution_count": 30,
   "metadata": {},
   "outputs": [
    {
     "name": "stdout",
     "output_type": "stream",
     "text": [
      "There are no delays.\n"
     ]
    }
   ],
   "source": [
    "airportcode = \"MCO\"\n",
    "airport = Airport(airportcode)\n",
    "airport.getAirportDelays()\n",
    "\n",
    "if airport.airportdelays is None:\n",
    "    print(\"There are no delays.\")\n",
    "else:\n",
    "    for key, value in airport.airportdelays.items():\n",
    "        print(f\"There is a delay on {airportcode} {key}s averaging {value['avgDelay']} minutes \\n(btwn. {value['minDelay']}-{value['maxDelay']} min) due to {value['reason']}.\")"
   ]
  }
 ],
 "metadata": {
  "kernelspec": {
   "display_name": "Python 3",
   "language": "python",
   "name": "python3"
  },
  "language_info": {
   "codemirror_mode": {
    "name": "ipython",
    "version": 3
   },
   "file_extension": ".py",
   "mimetype": "text/x-python",
   "name": "python",
   "nbconvert_exporter": "python",
   "pygments_lexer": "ipython3",
   "version": "3.11.4"
  }
 },
 "nbformat": 4,
 "nbformat_minor": 2
}
