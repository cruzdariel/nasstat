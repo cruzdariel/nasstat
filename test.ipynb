{
 "cells": [
  {
   "cell_type": "code",
   "execution_count": null,
   "metadata": {},
   "outputs": [],
   "source": [
    "from nasstat import *"
   ]
  },
  {
   "cell_type": "markdown",
   "metadata": {},
   "source": [
    "# NAAStatus Use Cases\n",
    "---"
   ]
  },
  {
   "cell_type": "markdown",
   "metadata": {},
   "source": [
    "## Getting Airport Delays"
   ]
  },
  {
   "cell_type": "code",
   "execution_count": 2,
   "metadata": {},
   "outputs": [
    {
     "ename": "NameError",
     "evalue": "name 'Airport' is not defined",
     "output_type": "error",
     "traceback": [
      "\u001b[0;31m---------------------------------------------------------------------------\u001b[0m",
      "\u001b[0;31mNameError\u001b[0m                                 Traceback (most recent call last)",
      "Cell \u001b[0;32mIn[2], line 2\u001b[0m\n\u001b[1;32m      1\u001b[0m airportcode \u001b[38;5;241m=\u001b[39m \u001b[38;5;124m\"\u001b[39m\u001b[38;5;124mMCO\u001b[39m\u001b[38;5;124m\"\u001b[39m\n\u001b[0;32m----> 2\u001b[0m airport \u001b[38;5;241m=\u001b[39m \u001b[43mAirport\u001b[49m(airportcode)\n\u001b[1;32m      3\u001b[0m airport\u001b[38;5;241m.\u001b[39mgetDelays()\n\u001b[1;32m      5\u001b[0m \u001b[38;5;28;01mif\u001b[39;00m airport\u001b[38;5;241m.\u001b[39mairportdelays \u001b[38;5;129;01mis\u001b[39;00m \u001b[38;5;28;01mNone\u001b[39;00m:\n",
      "\u001b[0;31mNameError\u001b[0m: name 'Airport' is not defined"
     ]
    }
   ],
   "source": [
    "airportcode = \"MCO\"\n",
    "airport = Airport(airportcode)\n",
    "airport.getDelays()\n",
    "\n",
    "if airport.airportdelays is None:\n",
    "    print(\"\\x1b[34;1mNAASTATUS\\x1b[0m \" + \"There are no delays.\")\n",
    "else:\n",
    "    for key, value in airport.airportdelays.items():\n",
    "        print(\"\\x1b[34;1mNAASTATUS\\x1b[0m \" + f\"There is a delay on {airportcode} {key}s averaging {value['avgDelay']} minutes (btwn. {value['minDelay']}-{value['maxDelay']} min) due to {value['reason']}.\")"
   ]
  },
  {
   "cell_type": "code",
   "execution_count": null,
   "metadata": {},
   "outputs": [
    {
     "name": "stdout",
     "output_type": "stream",
     "text": [
      "None\n"
     ]
    }
   ],
   "source": [
    "print(airport.getDelays())"
   ]
  },
  {
   "cell_type": "markdown",
   "metadata": {},
   "source": [
    "## Is Delay?"
   ]
  },
  {
   "cell_type": "code",
   "execution_count": null,
   "metadata": {},
   "outputs": [
    {
     "name": "stdout",
     "output_type": "stream",
     "text": [
      "\u001b[34;1mNAASTATUS\u001b[0m Airport Delays is empty, attempting to refresh...\n",
      "False\n"
     ]
    }
   ],
   "source": [
    "airportcode = \"DEN\"\n",
    "airport = Airport(airportcode)\n",
    "print(airport.isDelay())"
   ]
  },
  {
   "cell_type": "markdown",
   "metadata": {},
   "source": [
    "## Average Delay"
   ]
  },
  {
   "cell_type": "code",
   "execution_count": null,
   "metadata": {},
   "outputs": [
    {
     "name": "stdout",
     "output_type": "stream",
     "text": [
      "\u001b[34;1mNAASTATUS\u001b[0m Airport Delays is empty, attempting to refresh...\n",
      "0\n"
     ]
    }
   ],
   "source": [
    "airportcode = \"MCO\"\n",
    "airport = Airport(airportcode)\n",
    "print(airport.averageDelay())"
   ]
  },
  {
   "cell_type": "markdown",
   "metadata": {},
   "source": [
    "## Reason for Delays"
   ]
  },
  {
   "cell_type": "code",
   "execution_count": null,
   "metadata": {},
   "outputs": [
    {
     "name": "stdout",
     "output_type": "stream",
     "text": [
      "\u001b[34;1mNAASTATUS\u001b[0m Airport Delays is empty, attempting to refresh...\n",
      "None\n"
     ]
    }
   ],
   "source": [
    "airportcode = \"PBI\"\n",
    "airport = Airport(airportcode)\n",
    "print(airport.delayReasons())"
   ]
  },
  {
   "cell_type": "markdown",
   "metadata": {},
   "source": [
    "## Possible Delays"
   ]
  },
  {
   "cell_type": "code",
   "execution_count": null,
   "metadata": {},
   "outputs": [
    {
     "name": "stdout",
     "output_type": "stream",
     "text": [
      "{'GROUND STOP/DELAY PROGRAM POSSIBLE': 'AFTER 1700'}\n"
     ]
    }
   ],
   "source": [
    "airportcode = \"DCA\"\n",
    "airport = Airport(airportcode)\n",
    "print(airport.getPossibleDelays())"
   ]
  },
  {
   "cell_type": "markdown",
   "metadata": {},
   "source": [
    "## Closures"
   ]
  },
  {
   "cell_type": "code",
   "execution_count": null,
   "metadata": {},
   "outputs": [
    {
     "name": "stdout",
     "output_type": "stream",
     "text": [
      "[{'reason': '!LAS 03/121 LAS AD AP CLSD TO NON SKED TRANSIENT GA ACFT EXC 24HR PPR 702-261-7775 2503171851-2506252300', 'start': 'Mar 17 at 18:51 UTC.', 'reopen': 'Jun 25 at 23:00 UTC.'}]\n"
     ]
    }
   ],
   "source": [
    "airportcode = \"LAS\"\n",
    "airport = Airport(airportcode)\n",
    "print(airport.getClosures())"
   ]
  },
  {
   "cell_type": "markdown",
   "metadata": {},
   "source": [
    "## Get Specific Delays"
   ]
  },
  {
   "cell_type": "code",
   "execution_count": null,
   "metadata": {},
   "outputs": [
    {
     "name": "stdout",
     "output_type": "stream",
     "text": [
      "\u001b[34;1mNAASTATUS\u001b[0m Airport Delays is empty, attempting to refresh...\n",
      "None\n"
     ]
    }
   ],
   "source": [
    "airportcode = \"LAS\"\n",
    "airport = Airport(airportcode)\n",
    "print(airport.getArrivalDelays())"
   ]
  },
  {
   "cell_type": "code",
   "execution_count": null,
   "metadata": {},
   "outputs": [
    {
     "name": "stdout",
     "output_type": "stream",
     "text": [
      "\u001b[34;1mNAASTATUS\u001b[0m Airport Delays is empty, attempting to refresh...\n",
      "None\n"
     ]
    }
   ],
   "source": [
    "airportcode = \"MCO\"\n",
    "airport = Airport(airportcode)\n",
    "print(airport.getDepartureDelays())"
   ]
  },
  {
   "cell_type": "code",
   "execution_count": null,
   "metadata": {},
   "outputs": [],
   "source": []
  }
 ],
 "metadata": {
  "kernelspec": {
   "display_name": "Python 3",
   "language": "python",
   "name": "python3"
  },
  "language_info": {
   "codemirror_mode": {
    "name": "ipython",
    "version": 3
   },
   "file_extension": ".py",
   "mimetype": "text/x-python",
   "name": "python",
   "nbconvert_exporter": "python",
   "pygments_lexer": "ipython3",
   "version": "3.11.4"
  }
 },
 "nbformat": 4,
 "nbformat_minor": 2
}
